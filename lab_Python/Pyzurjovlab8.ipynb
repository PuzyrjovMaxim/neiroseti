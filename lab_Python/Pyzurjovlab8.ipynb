{
 "cells": [
  {
   "cell_type": "markdown",
   "metadata": {
    "id": "ijG1eveiomIb",
    "toc": true
   },
   "source": [
    "<h1>Table of Contents<span class=\"tocSkip\"></span></h1>\n",
    "<div class=\"toc\"><ul class=\"toc-item\"><li><span><a href=\"#PyTorch.-Основы:-синтаксис,-torch.cuda-и-torch.autograd\" data-toc-modified-id=\"PyTorch.-Основы:-синтаксис,-torch.cuda-и-torch.autograd-1\"><span class=\"toc-item-num\">1&nbsp;&nbsp;</span><b>PyTorch. Основы: синтаксис, torch.cuda и torch.autograd</b></a></span><ul class=\"toc-item\"><li><span><a href=\"#Задача-1\" data-toc-modified-id=\"Задача-1-1.1\"><span class=\"toc-item-num\">1.1&nbsp;&nbsp;</span>Задача 1</a></span></li><li><span><a href=\"#Задача-2\" data-toc-modified-id=\"Задача-2-1.2\"><span class=\"toc-item-num\">1.2&nbsp;&nbsp;</span>Задача 2</a></span></li><li><span><a href=\"#Задача-3\" data-toc-modified-id=\"Задача-3-1.3\"><span class=\"toc-item-num\">1.3&nbsp;&nbsp;</span>Задача 3</a></span></li><li><span><a href=\"#Задача-4\" data-toc-modified-id=\"Задача-4-1.4\"><span class=\"toc-item-num\">1.4&nbsp;&nbsp;</span>Задача 4</a></span></li><li><span><a href=\"#Задача-5\" data-toc-modified-id=\"Задача-5-1.5\"><span class=\"toc-item-num\">1.5&nbsp;&nbsp;</span>Задача 5</a></span></li></ul></li></ul></div>"
   ]
  },
  {
   "cell_type": "markdown",
   "metadata": {
    "id": "zqPnyO9_YJ8t"
   },
   "source": [
    "---"
   ]
  },
  {
   "cell_type": "markdown",
   "metadata": {
    "id": "vcnGdgw_YJ8u"
   },
   "source": [
    "<h2 style=\"text-align: center;\"><b>PyTorch. Основы: синтаксис, torch.cuda и torch.autograd</b></h2>"
   ]
  },
  {
   "cell_type": "markdown",
   "metadata": {
    "id": "-Iv1eX2mYJ8v"
   },
   "source": [
    "<p style=\"align: center;\"><img src=\"https://raw.githubusercontent.com/pytorch/pytorch/master/docs/source/_static/img/pytorch-logo-dark.png\", width=400, height=300></p>"
   ]
  },
  {
   "cell_type": "markdown",
   "metadata": {
    "id": "JlTocWSSomIe"
   },
   "source": [
    "---"
   ]
  },
  {
   "cell_type": "code",
   "execution_count": 2,
   "metadata": {
    "ExecuteTime": {
     "end_time": "2024-04-25T13:13:38.448200Z",
     "start_time": "2024-04-25T13:13:38.443451Z"
    },
    "id": "RtyozNmmYJ89"
   },
   "outputs": [],
   "source": [
    "import torch\n",
    "import matplotlib.pyplot as plt"
   ]
  },
  {
   "cell_type": "markdown",
   "metadata": {
    "id": "ny4-Qi2wYJ-6"
   },
   "source": [
    "### Задача 1"
   ]
  },
  {
   "cell_type": "markdown",
   "metadata": {
    "id": "IWxlFq0bYJ-_"
   },
   "source": [
    "1). Создайте два вещественных тензора: `a` размером (3, 4) и `b` размером (12,)   \n",
    "2). Создайте тензор `c`, являющийся тензором `b`, но размера (2, 2, 3)  \n",
    "3). Выведите первый столбец матрицы `a` с помощью индексации"
   ]
  },
  {
   "cell_type": "code",
   "execution_count": 3,
   "metadata": {
    "ExecuteTime": {
     "end_time": "2024-04-25T13:36:20.925745Z",
     "start_time": "2024-04-25T13:36:20.916030Z"
    },
    "id": "3oxZuk3yYJ_A",
    "outputId": "44e7947e-7784-4753-f5ec-9fb5ab65e657"
   },
   "outputs": [
    {
     "name": "stdout",
     "output_type": "stream",
     "text": [
      "tensor([[[ 1.,  2.,  3.],\n",
      "         [ 4.,  5.,  6.]],\n",
      "\n",
      "        [[ 7.,  8.,  9.],\n",
      "         [10., 11., 12.]]])\n",
      "tensor([1., 2., 3.])\n"
     ]
    }
   ],
   "source": [
    "a = torch.FloatTensor([[1, 1, 1, 1], [2, 2, 2, 2], [3, 3, 3, 3]])\n",
    "b = torch.FloatTensor([1, 2, 3, 4, 5, 6, 7, 8, 9, 10, 11, 12])\n",
    "\n",
    "c = b.view(2, 2, 3)\n",
    "print(c)\n",
    "\n",
    "print(a[:, 0])"
   ]
  },
  {
   "cell_type": "markdown",
   "metadata": {
    "id": "D2IP_FrKYKAA"
   },
   "source": [
    "### Задача 2"
   ]
  },
  {
   "cell_type": "markdown",
   "metadata": {
    "id": "tBZFbSYQYKAA"
   },
   "source": [
    "1). Создайте два вещественных тензора: `a` размером (5, 2) и `b` размером (1,10)   \n",
    "2). Создайте тензор `c`, являющийся тензором `b`, но размера (5, 2)  \n",
    "3). Произведите все арифметические операции с тензорами `a` и `c`"
   ]
  },
  {
   "cell_type": "code",
   "execution_count": 4,
   "metadata": {
    "ExecuteTime": {
     "end_time": "2024-04-25T13:42:30.738832Z",
     "start_time": "2024-04-25T13:42:30.724353Z"
    },
    "id": "hzs2bH3GYKAB",
    "outputId": "72a5ce0f-051a-47c4-f2a3-651c264ed62d"
   },
   "outputs": [
    {
     "name": "stdout",
     "output_type": "stream",
     "text": [
      "tensor([[ 1.,  2.],\n",
      "        [ 3.,  4.],\n",
      "        [ 5.,  6.],\n",
      "        [ 7.,  8.],\n",
      "        [ 9., 10.]])\n",
      "tensor([[ 2.,  3.],\n",
      "        [ 5.,  6.],\n",
      "        [ 8.,  9.],\n",
      "        [11., 12.],\n",
      "        [14., 15.]])\n",
      "tensor([[ 1.,  2.],\n",
      "        [ 6.,  8.],\n",
      "        [15., 18.],\n",
      "        [28., 32.],\n",
      "        [45., 50.]])\n",
      "tensor([[1.0000, 0.5000],\n",
      "        [0.6667, 0.5000],\n",
      "        [0.6000, 0.5000],\n",
      "        [0.5714, 0.5000],\n",
      "        [0.5556, 0.5000]])\n",
      "tensor([[ 0., -1.],\n",
      "        [-1., -2.],\n",
      "        [-2., -3.],\n",
      "        [-3., -4.],\n",
      "        [-4., -5.]])\n"
     ]
    }
   ],
   "source": [
    "a = torch.FloatTensor([[1, 1], [2, 2], [3, 3], [4, 4], [5, 5]])\n",
    "b = torch.FloatTensor([[1, 2, 3, 4, 5, 6, 7, 8, 9, 10]])\n",
    "\n",
    "c = b.view(5, 2)\n",
    "print(c)\n",
    "\n",
    "print(a.add(c))\n",
    "print(a.mul(c))\n",
    "print(a.div(c))\n",
    "print(a.sub(c))"
   ]
  },
  {
   "cell_type": "markdown",
   "metadata": {
    "id": "rIaroFO6YKBT"
   },
   "source": [
    "### Задача 3"
   ]
  },
  {
   "cell_type": "markdown",
   "metadata": {
    "id": "GfLHVvKvYKBT"
   },
   "source": [
    "1). Создайте тензор *целых чисел* `images` размерности (100, 200, 200, 3) (можно интерпретировать это как 100 картинок размера 200х200 с тремя цветовыми каналами, то есть 100 цветных изображений 200х200). Заполните его нулями  \n",
    "\n",
    "2). Сделайте так, чтобы у $i$-ой по порядку картинки была нарисована белая полоса толщиной два пикселя в строках, которые соответствуют номеру картинки. Например, у 3-ей по порядку картинки белая полоска будет занимать 6 и 7 строки, у 99 -- 198 и 199. Сделать белую строку можно, записав в ячейки тензора число 255 (по всем трём каналам). Выведите пару примеров с помощоью `pylot`  \n",
    "\n",
    "3). Посчитайте среднее тензора `images` по 1-ой оси (по сути - средняя картинка), умножьте полученный тензор на 70. Нарисуйте с помощью `pyplot`, должна получиться серая картинка (при взятии среднего нужно привести тензор к float с помощью `.float()`, при отрисовке обратно к int с помощью `.int()`)"
   ]
  },
  {
   "cell_type": "code",
   "execution_count": 5,
   "metadata": {
    "ExecuteTime": {
     "end_time": "2024-04-25T14:12:05.409206Z",
     "start_time": "2024-04-25T14:12:05.083892Z"
    },
    "id": "pZVGHEQQYKBU",
    "outputId": "ea8fb1e3-b62f-491c-d260-54f64055a65c"
   },
   "outputs": [
    {
     "data": {
      "text/plain": [
       "<matplotlib.image.AxesImage at 0x236b0c63a50>"
      ]
     },
     "execution_count": 5,
     "metadata": {},
     "output_type": "execute_result"
    },
    {
     "data": {
      "image/png": "[encoded data removed]",
      "text/plain": [
       "<Figure size 640x480 with 1 Axes>"
      ]
     },
     "metadata": {},
     "output_type": "display_data"
    }
   ],
   "source": [
    "from matplotlib import pyplot as plt\n",
    "\n",
    "images = torch.IntTensor(100, 200, 200, 3).zero_()\n",
    "\n",
    "for i in range(100):\n",
    "    images[i, i*2:i*2+2, :, :] = torch.full((2, 200, 3), 255)\n",
    "\n",
    "plt.imshow(images[95])"
   ]
  },
  {
   "cell_type": "code",
   "execution_count": 7,
   "metadata": {
    "ExecuteTime": {
     "end_time": "2024-04-25T14:20:01.818639Z",
     "start_time": "2024-04-25T14:20:01.544399Z"
    },
    "id": "8G_-YCvJomIi",
    "outputId": "f4728235-91bb-4200-b854-6f3c91eda622"
   },
   "outputs": [
    {
     "data": {
      "text/plain": [
       "<matplotlib.image.AxesImage at 0x236b0d3f550>"
      ]
     },
     "execution_count": 7,
     "metadata": {},
     "output_type": "execute_result"
    },
    {
     "data": {
      "image/png": "[encoded data removed]",
      "text/plain": [
       "<Figure size 640x480 with 1 Axes>"
      ]
     },
     "metadata": {},
     "output_type": "display_data"
    }
   ],
   "source": [
    "images = images.float().mean(0) * 70\n",
    "plt.imshow(images.int())"
   ]
  },
  {
   "cell_type": "markdown",
   "metadata": {
    "id": "1ALNkrzMYKCY"
   },
   "source": [
    "### Задача 4"
   ]
  },
  {
   "cell_type": "markdown",
   "metadata": {
    "id": "7-KS81rUYKCY"
   },
   "source": [
    "Перейдите на Google Colaboratory, чтобы работать с GPU. Загрузите туда этот ноутбук (Upload notebook)\n",
    "В Colab нажмите в меню сверху: Runtime -> Change Runtime Type -> GPU, где изначально стоит None\n",
    "Объявите тензор a размера (2, 3, 4) и тензор b размера (1, 8, 3) на GPU, иницилизируйте их случайно равномерно (.uniform_())\n",
    "Затем измените форму тензора b, чтобы она совпадала с формой тензора a, получите тензор c\n",
    "Переместите c на CPU, переместите a на CPU\n",
    "Оберните их в Variable()\n",
    "Объявите тензор L = torch.mean((c - a) ** 2) и посчитайте градиент L по c ( то есть  ∂𝐿∂𝑐)\n",
    "\n",
    "Выведите градиент L по c"
   ]
  },
  {
   "cell_type": "code",
   "execution_count": 8,
   "metadata": {
    "colab": {
     "base_uri": "https://localhost:8080/"
    },
    "id": "mNy2bOcnoxX2",
    "outputId": "f4bbd5f4-cbe4-47c6-db51-0e54f18fc8a7"
   },
   "outputs": [
    {
     "data": {
      "text/plain": [
       "tensor([[[ 0.0135, -0.0413,  0.0247, -0.0046],\n",
       "         [-0.0168, -0.0365,  0.0172, -0.0580],\n",
       "         [ 0.0131, -0.0471,  0.0106, -0.0035]],\n",
       "\n",
       "        [[ 0.0328,  0.0060, -0.0773, -0.0079],\n",
       "         [ 0.0427, -0.0566,  0.0094, -0.0189],\n",
       "         [-0.0174,  0.0786,  0.0644, -0.0111]]])"
      ]
     },
     "execution_count": 8,
     "metadata": {},
     "output_type": "execute_result"
    }
   ],
   "source": [
    "import torch\n",
    "from torch.autograd import Variable\n",
    "\n",
    "a = torch.FloatTensor(2, 3, 4).uniform_()\n",
    "b = torch.FloatTensor(1, 8, 3).uniform_()\n",
    "\n",
    "device = torch.device(\"cuda:0\" if torch.cuda.is_available() else \"cpu\")\n",
    "\n",
    "c = b.view(a.shape)\n",
    "\n",
    "c = c.to(device)\n",
    "a = a.to(device)\n",
    "\n",
    "c = Variable(c, requires_grad=True)\n",
    "a = Variable(a, requires_grad=True)\n",
    "\n",
    "L = torch.mean((c - a) ** 2)\n",
    "L.backward()\n",
    "c.grad"
   ]
  },
  {
   "cell_type": "code",
   "execution_count": 9,
   "metadata": {
    "colab": {
     "base_uri": "https://localhost:8080/"
    },
    "id": "4eMegw6B6hSh",
    "outputId": "a6756530-76fc-497b-a3f5-7762bc71b499"
   },
   "outputs": [
    {
     "data": {
      "text/plain": [
       "tensor([[[0.7787, 0.4631, 0.3734, 0.0602],\n",
       "         [0.2204, 0.4738, 0.8330, 0.0533],\n",
       "         [0.1788, 0.3000, 0.2809, 0.0559]],\n",
       "\n",
       "        [[0.8711, 0.5535, 0.0700, 0.7135],\n",
       "         [0.9939, 0.2377, 0.2271, 0.4766],\n",
       "         [0.2909, 0.9805, 0.7957, 0.3042]]])"
      ]
     },
     "execution_count": 9,
     "metadata": {},
     "output_type": "execute_result"
    }
   ],
   "source": [
    "c.data"
   ]
  },
  {
   "cell_type": "markdown",
   "metadata": {
    "id": "9DXpZVZjomIi"
   },
   "source": [
    "### Задача 5"
   ]
  },
  {
   "cell_type": "markdown",
   "metadata": {
    "id": "p3qnBLCTomIi"
   },
   "source": [
    "Доработайте многослойную нейронную сеть из файла \"6_3 mlp pytorch tasks\"."
   ]
  }
 ],
 "metadata": {
  "accelerator": "GPU",
  "colab": {
   "gpuType": "T4",
   "provenance": []
  },
  "kernelspec": {
   "display_name": "Python 3 (ipykernel)",
   "language": "python",
   "name": "python3"
  },
  "language_info": {
   "codemirror_mode": {
    "name": "ipython",
    "version": 3
   },
   "file_extension": ".py",
   "mimetype": "text/x-python",
   "name": "python",
   "nbconvert_exporter": "python",
   "pygments_lexer": "ipython3",
   "version": "3.11.7"
  },
  "toc": {
   "base_numbering": 1,
   "nav_menu": {},
   "number_sections": true,
   "sideBar": true,
   "skip_h1_title": false,
   "title_cell": "Table of Contents",
   "title_sidebar": "Contents",
   "toc_cell": true,
   "toc_position": {},
   "toc_section_display": true,
   "toc_window_display": false
  }
 },
 "nbformat": 4,
 "nbformat_minor": 4
}
